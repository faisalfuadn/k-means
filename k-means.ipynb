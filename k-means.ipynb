{
 "cells": [
  {
   "cell_type": "markdown",
   "metadata": {},
   "source": [
    "# k-means"
   ]
  },
  {
   "cell_type": "code",
   "execution_count": 1,
   "metadata": {},
   "outputs": [],
   "source": [
    "import csv\n",
    "import os\n",
    "import numpy as np\n",
    "import math\n",
    "from copy import deepcopy\n",
    "from matplotlib import pyplot as plt\n",
    "kluster=3"
   ]
  },
  {
   "cell_type": "code",
   "execution_count": 10,
   "metadata": {},
   "outputs": [],
   "source": [
    "#read csv file in a specific directory\n",
    "def read():\n",
    "    path=r'G:\\My Drive\\Thesis\\Python Scripts\\K means'\n",
    "    os.chdir(path)\n",
    "    scv='iris.csv'\n",
    "    with open(scv) as csvfile:\n",
    "        readCSV = csv.reader(csvfile, delimiter=',')\n",
    "        feature=[]\n",
    "        for row in readCSV:\n",
    "            attribute=row\n",
    "            feature.append(attribute)\n",
    "    del(feature[0])\n",
    "    for i in range (len (feature)):\n",
    "        del(feature[i][-1])\n",
    "    newListSet=[]\n",
    "    for i in range(len(feature)):\n",
    "        newList=[]\n",
    "        for j in range(len (feature[i])):\n",
    "            convert=float(feature[i][j])\n",
    "            newList.append(convert)\n",
    "        newListSet.append(newList)\n",
    "    return newListSet"
   ]
  },
  {
   "cell_type": "code",
   "execution_count": 11,
   "metadata": {},
   "outputs": [],
   "source": [
    "def centeroid():\n",
    "    data=read()\n",
    "    average=np.mean(data, axis=0)\n",
    "    stdev=np.std(data, axis=0)\n",
    "    randCenter=[]\n",
    "    for i in range(kluster):\n",
    "        center=[]\n",
    "        for j in range(len(data[0])):\n",
    "            rand=np.random.uniform(0,1)\n",
    "            center.append(average[j]+stdev[j]*rand)\n",
    "        randCenter.append(center)\n",
    "    return randCenter"
   ]
  },
  {
   "cell_type": "code",
   "execution_count": 21,
   "metadata": {},
   "outputs": [],
   "source": [
    "def benchmark():\n",
    "    d=r\"G:\\My Drive\\Thesis\\Python Scripts\\K means\"\n",
    "    os.chdir(d)\n",
    "    scv='iris.csv'\n",
    "    with open(scv) as csvfile:\n",
    "        readCSV = csv.reader(csvfile, delimiter=',')\n",
    "        feature=[]\n",
    "        for row in readCSV:\n",
    "            attribute=row[4]\n",
    "            feature.append(attribute)\n",
    "    del(feature[0])\n",
    "    for i in range(len(feature)):\n",
    "        if feature[i]=='Setosa':\n",
    "            feature[i]=[0]\n",
    "        if feature[i]=='Versicolor':\n",
    "            feature[i]=[1]\n",
    "        if feature[i]=='Virginica':\n",
    "            feature[i]=[2]\n",
    "    return feature"
   ]
  },
  {
   "cell_type": "code",
   "execution_count": 22,
   "metadata": {},
   "outputs": [],
   "source": [
    "def evaluation(center):\n",
    "    data=read()\n",
    "    setDistant=[]\n",
    "    for i in range (len(data)):\n",
    "        distant=[]\n",
    "        for j in range (kluster):\n",
    "            setDistance=[]\n",
    "            for k in range (len(data[0])):\n",
    "                distance=(data[i][k]-center[j][k])**2\n",
    "                setDistance.append(distance)\n",
    "            distanceCalc=math.sqrt(sum(setDistance))\n",
    "            distant.append(distanceCalc)\n",
    "        setDistant.append(distant)\n",
    "    return setDistant"
   ]
  },
  {
   "cell_type": "code",
   "execution_count": 23,
   "metadata": {},
   "outputs": [],
   "source": [
    "def stoppingCriterion(array1, array2):\n",
    "    error=0\n",
    "    for i in range (len(array2)):\n",
    "        for j in range(len(array2[0])):\n",
    "            err=(array2[i][j]-array1[i][j])**2\n",
    "            error+=err\n",
    "    error= math.sqrt(error)\n",
    "    return error"
   ]
  },
  {
   "cell_type": "code",
   "execution_count": 24,
   "metadata": {},
   "outputs": [],
   "source": [
    "#plotting data before k-means\n",
    "data=read()\n",
    "colors=['orange','blue','green']\n",
    "centers=centeroid()\n",
    "#centers=[[5.7, 3.4, 4.2, 1.3], [7.3, 2.9, 6.3, 0.1], [6.9, 3.1, 5.1, 1.5]]\n",
    "category=benchmark()"
   ]
  },
  {
   "cell_type": "code",
   "execution_count": 25,
   "metadata": {},
   "outputs": [],
   "source": [
    "def main():\n",
    "    data=read()\n",
    "    oldCenter=np.zeros((3,4))\n",
    "    newCenter=deepcopy(centers)\n",
    "    error=stoppingCriterion(oldCenter, newCenter)\n",
    "    iteration=0\n",
    "    while error!=0:\n",
    "        iteration+=1\n",
    "        print('Iteration {}'.format(iteration))\n",
    "        evaluate=evaluation(newCenter)\n",
    "        min_index=[]\n",
    "        for i in range(len (evaluate)):\n",
    "            idx=evaluate[i].index(min(evaluate[i]))\n",
    "            min_index.append(idx)\n",
    "        oldCenter=deepcopy(newCenter)\n",
    "        #making average of data for every cluster, 4x3\n",
    "        cluster1=[]\n",
    "        cluster2=[]\n",
    "        cluster3=[]\n",
    "        for i in range (len (data)):\n",
    "            if min_index[i]==0:\n",
    "                cluster1.append(data[i])\n",
    "            elif min_index[i]==1:\n",
    "                cluster2.append(data[i])\n",
    "            else:\n",
    "                cluster3.append(data[i])\n",
    "        avg1=np.mean(cluster1, axis=0)\n",
    "        avg2=np.mean(cluster2, axis=0)\n",
    "        avg3=np.mean(cluster3, axis=0)\n",
    "        newCenter=[avg1, avg2, avg3]\n",
    "        error=stoppingCriterion(oldCenter, newCenter)\n",
    "    return min_index, newCenter"
   ]
  },
  {
   "cell_type": "code",
   "execution_count": 26,
   "metadata": {},
   "outputs": [
    {
     "name": "stdout",
     "output_type": "stream",
     "text": [
      "Iteration 1\n",
      "Iteration 2\n",
      "Iteration 3\n",
      "Iteration 4\n"
     ]
    }
   ],
   "source": [
    "kmeans=main()\n",
    "minIndex=kmeans[0]\n",
    "min_index=[]\n",
    "for i in range(len(minIndex)):\n",
    "    min_index.append([minIndex[i]])\n",
    "newCenter=kmeans[1]"
   ]
  },
  {
   "cell_type": "code",
   "execution_count": 27,
   "metadata": {},
   "outputs": [
    {
     "name": "stdout",
     "output_type": "stream",
     "text": [
      "---------------Accuracy is 88.66666666666667%-----------------\n"
     ]
    }
   ],
   "source": [
    "for i in range (len(minIndex[0:50])):\n",
    "        accuracy11=minIndex[0:50].count(0)\n",
    "        accuracy12=minIndex[0:50].count(1)\n",
    "        accuracy13=minIndex[0:50].count(2)\n",
    "for j in range (len(minIndex[50:100])):   \n",
    "    accuracy21=minIndex[50:100].count(0)\n",
    "    accuracy22=minIndex[50:100].count(1)\n",
    "    accuracy23=minIndex[50:100].count(2)\n",
    "for k in range (len(minIndex[100:150])):\n",
    "    accuracy31=minIndex[100:150].count(0)\n",
    "    accuracy32=minIndex[100:150].count(1)\n",
    "    accuracy33=minIndex[100:150].count(2)\n",
    "accuracy=[max(accuracy11,accuracy12,accuracy13),\n",
    "          max(accuracy21,accuracy22,accuracy23),\n",
    "          max(accuracy31,accuracy32,accuracy33)]\n",
    "accuracy_detail=[[accuracy11,accuracy12,accuracy13],\n",
    "                 [accuracy21,accuracy22,accuracy23],\n",
    "                 [accuracy31,accuracy32,accuracy33]]\n",
    "accurate=sum(accuracy)/len(data)*100\n",
    "print('---------------Accuracy is {}%-----------------'.format(accurate))"
   ]
  },
  {
   "cell_type": "code",
   "execution_count": 32,
   "metadata": {},
   "outputs": [
    {
     "data": {
      "image/png": "[encoded data removed]",
      "text/plain": [
       "<Figure size 432x288 with 1 Axes>"
      ]
     },
     "metadata": {
      "needs_background": "light"
     },
     "output_type": "display_data"
    }
   ],
   "source": [
    "for k in range (len(data)):\n",
    "    for l in range (len(data[0])):\n",
    "        plt.scatter(data[k][0], data[k][1], s=7, color = colors[int(min_index[k][0])])\n",
    "for m in range (int(kluster))  :\n",
    "    for n in range(len(data[0])):\n",
    "        plt.scatter(newCenter[m][0],newCenter[m][1], marker='*',c='g',s=150)"
   ]
  },
  {
   "cell_type": "code",
   "execution_count": null,
   "metadata": {},
   "outputs": [],
   "source": []
  }
 ],
 "metadata": {
  "kernelspec": {
   "display_name": "Python 3",
   "language": "python",
   "name": "python3"
  },
  "language_info": {
   "codemirror_mode": {
    "name": "ipython",
    "version": 3
   },
   "file_extension": ".py",
   "mimetype": "text/x-python",
   "name": "python",
   "nbconvert_exporter": "python",
   "pygments_lexer": "ipython3",
   "version": "3.8.5"
  }
 },
 "nbformat": 4,
 "nbformat_minor": 4
}
